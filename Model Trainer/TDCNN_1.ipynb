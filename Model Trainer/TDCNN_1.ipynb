{
  "nbformat": 4,
  "nbformat_minor": 0,
  "metadata": {
    "colab": {
      "name": "TDCNN_1.ipynb",
      "provenance": [],
      "collapsed_sections": []
    },
    "kernelspec": {
      "name": "python3",
      "display_name": "Python 3"
    },
    "language_info": {
      "name": "python"
    }
  },
  "cells": [
    {
      "cell_type": "code",
      "source": [
        "from google.colab import drive\n",
        "drive.mount('/content/drive')"
      ],
      "metadata": {
        "id": "6IwraCW0htmr",
        "colab": {
          "base_uri": "https://localhost:8080/"
        },
        "outputId": "34915d0c-93eb-4262-b980-c20d83b687b8"
      },
      "execution_count": null,
      "outputs": [
        {
          "output_type": "stream",
          "name": "stdout",
          "text": [
            "Mounted at /content/drive\n"
          ]
        }
      ]
    },
    {
      "cell_type": "code",
      "source": [
        "import os\n",
        "import logging\n",
        "import tensorflow as tf\n",
        "import matplotlib.pyplot as plt\n",
        "import numpy as np\n",
        "# from efficientnet.keras import preprocess_input\n",
        "from keras.models import load_model\n",
        "from tensorflow.keras.layers import Input\n",
        "from tensorflow.keras.models import Model, Sequential\n",
        "from tensorflow.keras.layers import Input, Layer, ReLU, Conv2D, MaxPooling2D, GlobalAveragePooling2D, Dense, Add, Concatenate, Dropout\n",
        "from tensorflow.keras.models import Model\n",
        "from tensorflow.keras.applications import DenseNet121\n",
        "from tensorflow.keras.applications.vgg16 import VGG16\n",
        "from tensorflow.keras.applications.vgg16 import preprocess_input\n",
        "from tensorflow.keras.preprocessing import image\n",
        "from tensorflow.keras.preprocessing.image import ImageDataGenerator\n",
        "from tensorflow.keras.models import Sequential\n",
        "from tensorflow.keras.callbacks import EarlyStopping\n",
        "from sklearn.metrics import accuracy_score,classification_report,confusion_matrix,ConfusionMatrixDisplay\n",
        "from tensorflow.keras.applications.densenet import preprocess_input\n",
        "from tensorflow.keras.optimizers import Adam\n",
        "from tensorflow.keras.callbacks import ModelCheckpoint, ReduceLROnPlateau\n",
        "from tensorflow.keras.layers import Input, AveragePooling2D, ReLU, AlphaDropout, Conv2D, GlobalAveragePooling2D, Dense, Add, Concatenate, Dropout\n",
        "from tensorflow.keras.models import Model\n",
        "from tensorflow.keras.applications import InceptionV3, VGG16, MobileNetV2, ResNet50V2\n",
        "from tensorflow.keras.applications.inception_v3 import preprocess_input\n",
        "from tensorflow.keras.preprocessing import image\n",
        "from tensorflow.keras.preprocessing.image import ImageDataGenerator\n",
        "from tensorflow.keras.models import Sequential\n",
        "from tensorflow.keras.callbacks import EarlyStopping\n",
        "from sklearn.metrics import accuracy_score,classification_report,confusion_matrix,ConfusionMatrixDisplay\n",
        "from tensorflow.keras.optimizers import Adam, SGD\n",
        "from tensorflow.keras.callbacks import ModelCheckpoint, ReduceLROnPlateau\n",
        "\n",
        "import tensorflow as tf\n",
        "import numpy as np\n",
        "import pandas as pd\n",
        "import matplotlib.pyplot as plt\n",
        "\n",
        "import tensorflow as tf\n",
        "import numpy as np\n",
        "import pandas as pd\n",
        "import matplotlib.pyplot as plt\n",
        "# from keras.utils import load_img, img_to_array\n",
        "\n",
        "tf.get_logger().setLevel(logging.ERROR)\n",
        "\n",
        "os.environ['TF_CPP_MIN_LOG_LEVEL'] = '3' "
      ],
      "metadata": {
        "id": "grezGoG_h3Tt"
      },
      "execution_count": null,
      "outputs": []
    },
    {
      "cell_type": "code",
      "source": [
        "img_rows, img_cols = 224, 224\n",
        "channel_depth = 3\n",
        "input_shape = (img_rows,img_cols,channel_depth)\n",
        "model_input = Input(shape=input_shape)\n"
      ],
      "metadata": {
        "id": "TvrXsTWj7QHM"
      },
      "execution_count": null,
      "outputs": []
    },
    {
      "cell_type": "markdown",
      "source": [
        "# DenseNet121"
      ],
      "metadata": {
        "id": "VEVYsPqVBYTJ"
      }
    },
    {
      "cell_type": "code",
      "source": [
        "def my_model1(model_input):\n",
        "    densenet = DenseNet121(weights='imagenet', include_top=False, input_tensor=model_input)\n",
        "    for layer in densenet.layers:layer.trainable = False\n",
        "    # our layers - you can add more if you want\n",
        "    y = GlobalAveragePooling2D()(densenet.output)\n",
        "    y = Dense(512, activation='relu', use_bias=True)(y)\n",
        "    y = Dropout(0.5)(y)\n",
        "    prediction = Dense(5,activation='softmax')(y)\n",
        "    model = Model(inputs=densenet.input, outputs=prediction)\n",
        "    # tell the model what cost and optimization method to use\n",
        "    return model"
      ],
      "metadata": {
        "id": "FyUOprsrBWBV"
      },
      "execution_count": null,
      "outputs": []
    },
    {
      "cell_type": "code",
      "source": [
        "model1 = my_model1(model_input)"
      ],
      "metadata": {
        "id": "Alkj05q37sRD",
        "colab": {
          "base_uri": "https://localhost:8080/"
        },
        "outputId": "ce9757b4-6b7c-42c4-d0fb-91bb0c82c785"
      },
      "execution_count": null,
      "outputs": [
        {
          "output_type": "stream",
          "name": "stdout",
          "text": [
            "Downloading data from https://storage.googleapis.com/tensorflow/keras-applications/densenet/densenet121_weights_tf_dim_ordering_tf_kernels_notop.h5\n",
            "29089792/29084464 [==============================] - 0s 0us/step\n",
            "29097984/29084464 [==============================] - 0s 0us/step\n"
          ]
        }
      ]
    },
    {
      "cell_type": "markdown",
      "source": [
        "# InceptionV3"
      ],
      "metadata": {
        "id": "TqY-Iio8BejN"
      }
    },
    {
      "cell_type": "code",
      "source": [
        "def my_model2(model_input):\n",
        "    InceptionV3_builder = InceptionV3(\n",
        "        weights='imagenet', \n",
        "        include_top=False, \n",
        "        input_tensor = model_input\n",
        "    )\n",
        "\n",
        "#FINE-TUNING\n",
        "    for layer in InceptionV3_builder.layers:\n",
        "        layer.trainable = False\n",
        "    for BatchNormalization in InceptionV3_builder.layers:\n",
        "        BatchNormalization.trainable = True\n",
        "    x = InceptionV3_builder.layers[-1].output    \n",
        "    x = GlobalAveragePooling2D(name='GAP-inceptionv3')(x)\n",
        "    x = Dropout(0.5, name='Droput-inceptionv3')(x)\n",
        "    predictions = Dense(5, activation='softmax', name='Softmax-inceptionv3')(x)\n",
        "    model = Model(inputs=InceptionV3_builder.input, outputs=predictions, name='inceptionv3')\n",
        "    return model"
      ],
      "metadata": {
        "id": "h7P7xwuG8ozE"
      },
      "execution_count": null,
      "outputs": []
    },
    {
      "cell_type": "code",
      "source": [
        "model2 = my_model2(model_input)"
      ],
      "metadata": {
        "id": "RcE1KqKh89iA",
        "colab": {
          "base_uri": "https://localhost:8080/"
        },
        "outputId": "4cb30fdb-e8c9-44e8-b354-62f213612fe2"
      },
      "execution_count": null,
      "outputs": [
        {
          "output_type": "stream",
          "name": "stdout",
          "text": [
            "Downloading data from https://storage.googleapis.com/tensorflow/keras-applications/inception_v3/inception_v3_weights_tf_dim_ordering_tf_kernels_notop.h5\n",
            "87916544/87910968 [==============================] - 0s 0us/step\n",
            "87924736/87910968 [==============================] - 0s 0us/step\n"
          ]
        }
      ]
    },
    {
      "cell_type": "markdown",
      "source": [
        "# VGG16"
      ],
      "metadata": {
        "id": "3sGAohCXBlfD"
      }
    },
    {
      "cell_type": "code",
      "source": [
        "def my_model3(model_input):\n",
        "    densenet = VGG16(weights='imagenet', include_top=False, input_tensor=model_input)\n",
        "    for layer in densenet.layers:layer.trainable = False\n",
        "    # our layers - you can add more if you want\n",
        "    y = GlobalAveragePooling2D()(densenet.output)\n",
        "    y = Dense(512, activation='relu', use_bias=True)(y)\n",
        "    y = Dropout(0.5)(y)\n",
        "    prediction = Dense(5,activation='softmax')(y)\n",
        "    model = Model(inputs=densenet.input, outputs=prediction)\n",
        "    # tell the model what cost and optimization method to use\n",
        "    return model"
      ],
      "metadata": {
        "id": "qd8G6HbDAlrX"
      },
      "execution_count": null,
      "outputs": []
    },
    {
      "cell_type": "code",
      "source": [
        "model3 = my_model3(model_input)"
      ],
      "metadata": {
        "id": "1iYrUPV3A2JB",
        "colab": {
          "base_uri": "https://localhost:8080/"
        },
        "outputId": "5d02a205-fcf2-4623-afcd-746a34a8227f"
      },
      "execution_count": null,
      "outputs": [
        {
          "output_type": "stream",
          "name": "stdout",
          "text": [
            "Downloading data from https://storage.googleapis.com/tensorflow/keras-applications/vgg16/vgg16_weights_tf_dim_ordering_tf_kernels_notop.h5\n",
            "58892288/58889256 [==============================] - 0s 0us/step\n",
            "58900480/58889256 [==============================] - 0s 0us/step\n"
          ]
        }
      ]
    },
    {
      "cell_type": "code",
      "source": [
        "#model3.load_weights('/content/drive/MyDrive/weights/stage1/VGG16_1.h5')"
      ],
      "metadata": {
        "id": "GbjVnAX8A6LG"
      },
      "execution_count": null,
      "outputs": []
    },
    {
      "cell_type": "markdown",
      "source": [
        "# Fusion Model"
      ],
      "metadata": {
        "id": "KlNdOB2QBpgg"
      }
    },
    {
      "cell_type": "code",
      "source": [
        "models = [model1, model2, model3]"
      ],
      "metadata": {
        "id": "OU0bTlTmoNs7"
      },
      "execution_count": null,
      "outputs": []
    },
    {
      "cell_type": "code",
      "source": [
        "[m.layers[0] for m in models]"
      ],
      "metadata": {
        "colab": {
          "base_uri": "https://localhost:8080/"
        },
        "id": "GwDhUw8I9u6e",
        "outputId": "17125301-f0e3-4cbc-be02-4451d6851cb1"
      },
      "execution_count": null,
      "outputs": [
        {
          "output_type": "execute_result",
          "data": {
            "text/plain": [
              "[<keras.engine.input_layer.InputLayer at 0x7f22950a8f50>,\n",
              " <keras.engine.input_layer.InputLayer at 0x7f22950a8f50>,\n",
              " <keras.engine.input_layer.InputLayer at 0x7f22950a8f50>]"
            ]
          },
          "metadata": {},
          "execution_count": 16
        }
      ]
    },
    {
      "cell_type": "code",
      "source": [
        "outputs = [m.output for m in models]\n",
        "y = tf.keras.layers.Average()(outputs)\n",
        "TDCNN_1 = Model(model_input, y, name='TDCNN_1')"
      ],
      "metadata": {
        "id": "gLIGjypBpCLZ"
      },
      "execution_count": null,
      "outputs": []
    },
    {
      "cell_type": "code",
      "source": [
        "TDCNN_1.input"
      ],
      "metadata": {
        "id": "dpoE-x40Uv-V",
        "colab": {
          "base_uri": "https://localhost:8080/"
        },
        "outputId": "aaa6ad63-fb08-499b-f755-d3160679b030"
      },
      "execution_count": null,
      "outputs": [
        {
          "output_type": "execute_result",
          "data": {
            "text/plain": [
              "<KerasTensor: shape=(None, 224, 224, 3) dtype=float32 (created by layer 'input_1')>"
            ]
          },
          "metadata": {},
          "execution_count": 18
        }
      ]
    },
    {
      "cell_type": "code",
      "source": [
        "train_path=\"/content/drive/MyDrive/Data_Moisture/train\"\n",
        "validation_path= \"/content/drive/MyDrive/Data_Moisture/val\"\n",
        "test_path=\"/content/drive/MyDrive/Data_Moisture/test\""
      ],
      "metadata": {
        "id": "_NwiySCRK215"
      },
      "execution_count": null,
      "outputs": []
    },
    {
      "cell_type": "code",
      "source": [
        "IMG_SIZE = (224,224)\n",
        "\n",
        "def ImgDataGen(file_path, f=False):\n",
        "    file_datagen = ImageDataGenerator(preprocessing_function=preprocess_input)\n",
        "    \n",
        "    data_set = file_datagen.flow_from_directory(file_path,\n",
        "                                                target_size = IMG_SIZE,\n",
        "                                                batch_size = 16,\n",
        "                                                class_mode = 'categorical',\n",
        "                                                shuffle = f) \n",
        "    return data_set\n"
      ],
      "metadata": {
        "id": "7wOeGq2SKRgs"
      },
      "execution_count": null,
      "outputs": []
    },
    {
      "cell_type": "code",
      "source": [
        "training_set, val_set, test_set = ImgDataGen(train_path, f=True), ImgDataGen(validation_path), ImgDataGen(test_path)"
      ],
      "metadata": {
        "colab": {
          "base_uri": "https://localhost:8080/"
        },
        "id": "mSZhImCMKqhz",
        "outputId": "69070534-b91c-4ee5-e079-944250478070"
      },
      "execution_count": null,
      "outputs": [
        {
          "output_type": "stream",
          "name": "stdout",
          "text": [
            "Found 324 images belonging to 5 classes.\n",
            "Found 92 images belonging to 5 classes.\n",
            "Found 50 images belonging to 5 classes.\n"
          ]
        }
      ]
    },
    {
      "cell_type": "code",
      "source": [
        "training_set.class_indices"
      ],
      "metadata": {
        "colab": {
          "base_uri": "https://localhost:8080/"
        },
        "id": "TfcIqlW0nHL5",
        "outputId": "4fe07e40-76fa-4210-bf19-ef69f53ea743"
      },
      "execution_count": null,
      "outputs": [
        {
          "output_type": "execute_result",
          "data": {
            "text/plain": [
              "{'0_13': 0, '1_13.2': 1, '2_14': 2, '3_15': 3, '4_15 (higher)': 4}"
            ]
          },
          "metadata": {},
          "execution_count": 27
        }
      ]
    },
    {
      "cell_type": "code",
      "source": [
        "nb_train_samples = len(training_set.filenames)\n",
        "nb_validation_samples = len(val_set.filenames)"
      ],
      "metadata": {
        "id": "ceMpu5BZoins"
      },
      "execution_count": null,
      "outputs": []
    },
    {
      "cell_type": "code",
      "source": [
        "#MODEL COMPILATION WITH HYPER-PARAMETERS, LOSS FUNCTIONS AND TRAINING!\n",
        "import time\n",
        "\n",
        "batch_size = 16\n",
        "\n",
        "epochs = 25\n",
        "\n",
        "start_time = time.time()\n",
        "\n",
        "optimizer = Adam(learning_rate=0.0001)\n",
        "\n",
        "TDCNN_1.compile(\n",
        "    optimizer=optimizer, \n",
        "    loss='categorical_crossentropy', \n",
        "    metrics=['accuracy']\n",
        ") \n",
        "\n",
        "reduce_lr = ReduceLROnPlateau(\n",
        "    monitor='val_accuracy', \n",
        "    factor=0.5, \n",
        "    patience=2,                          \n",
        "    verbose=1, \n",
        "    mode='max', \n",
        "    min_lr=0.000001\n",
        ")\n",
        "\n",
        "callbacks = [reduce_lr]\n",
        "\n",
        "history = TDCNN_1.fit(\n",
        "    training_set,\n",
        "    epochs=epochs, \n",
        "    steps_per_epoch=nb_train_samples // batch_size,\n",
        "    validation_data=val_set,\n",
        "    callbacks=callbacks, \n",
        "    validation_steps=nb_validation_samples // batch_size, \n",
        "    verbose=1\n",
        ")\n",
        "\n",
        "elapsed_time = time.time() - start_time\n",
        "time.strftime(\"%H:%M:%S\", time.gmtime(elapsed_time))\n",
        "\n",
        "\n",
        "\n"
      ],
      "metadata": {
        "id": "OzFgzjM9nS7n"
      },
      "execution_count": null,
      "outputs": []
    },
    {
      "cell_type": "code",
      "source": [
        "# loss\n",
        "plt.plot(history.history['loss'], label='train loss')\n",
        "plt.plot(history.history['val_loss'], label='val loss')\n",
        "plt.legend()\n",
        "\n",
        "plt.savefig('vgg-loss-rps-1.png')\n",
        "plt.show()"
      ],
      "metadata": {
        "colab": {
          "base_uri": "https://localhost:8080/",
          "height": 268
        },
        "id": "PKfvnwGSuD1q",
        "outputId": "7e46546d-4854-4e69-ac97-cad4f3cc3f8b"
      },
      "execution_count": null,
      "outputs": [
        {
          "output_type": "display_data",
          "data": {
            "text/plain": [
              "<Figure size 432x288 with 1 Axes>"
            ],
            "image/png": "[encoded data removed]"
          },
          "metadata": {
            "needs_background": "light"
          }
        }
      ]
    },
    {
      "cell_type": "code",
      "source": [
        "# accuracies\n",
        "plt.plot(history.history['accuracy'], label='train acc')\n",
        "plt.plot(history.history['val_accuracy'], label='val acc')\n",
        "plt.legend()\n",
        "\n",
        "plt.savefig('vgg-acc-rps-1.png')\n",
        "plt.show()"
      ],
      "metadata": {
        "colab": {
          "base_uri": "https://localhost:8080/",
          "height": 265
        },
        "id": "RjWuEBF_2lkb",
        "outputId": "10680638-b7e3-4ed7-9231-b6d18f98177d"
      },
      "execution_count": null,
      "outputs": [
        {
          "output_type": "display_data",
          "data": {
            "text/plain": [
              "<Figure size 432x288 with 1 Axes>"
            ],
            "image/png": "[encoded data removed]"
          },
          "metadata": {
            "needs_background": "light"
          }
        }
      ]
    },
    {
      "cell_type": "code",
      "source": [
        "def report_test(test_set,model=TDCNN_1):\n",
        "    \n",
        "    # evaluating test\n",
        "    model.evaluate(test_set,batch_size=32)\n",
        "    y_pred=model.predict(test_set)\n",
        "    y_pred=np.argmax(y_pred,axis=1)\n",
        "    accuracy_score(y_pred,test_set.classes)\n",
        "    print(classification_report(y_pred,test_set.classes))\n",
        "    \n",
        "    # confusion_matrix\n",
        "    labels = [i for i in training_set.class_indices]\n",
        "    cm =confusion_matrix(y_pred, test_set.classes)\n",
        "    disp = ConfusionMatrixDisplay(cm,display_labels=labels)\n",
        "    disp.plot(cmap='Blues',xticks_rotation='vertical')\n",
        "    plt.show()\n",
        "\n",
        "report_test(test_set)"
      ],
      "metadata": {
        "id": "ZeCEVigN3ZAQ"
      },
      "execution_count": null,
      "outputs": []
    },
    {
      "cell_type": "code",
      "source": [
        "file_model = \"weights/TDCNN_1.h5\"\n",
        "tf.keras.models.save_model(TDCNN_1,file_model)"
      ],
      "metadata": {
        "id": "Ry04Kp450vSY"
      },
      "execution_count": null,
      "outputs": []
    }
  ]
}