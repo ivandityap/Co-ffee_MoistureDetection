{
  "nbformat": 4,
  "nbformat_minor": 0,
  "metadata": {
    "colab": {
      "name": "beans.ipynb",
      "provenance": [],
      "collapsed_sections": []
    },
    "kernelspec": {
      "name": "python3",
      "display_name": "Python 3"
    },
    "language_info": {
      "name": "python"
    }
  },
  "cells": [
    {
      "cell_type": "code",
      "source": [
        "from google.colab import drive\n",
        "drive.mount('/content/drive')"
      ],
      "metadata": {
        "id": "6IwraCW0htmr",
        "colab": {
          "base_uri": "https://localhost:8080/"
        },
        "outputId": "6b6fcf9b-4e62-4a70-8d85-ddee97a2472d"
      },
      "execution_count": 1,
      "outputs": [
        {
          "output_type": "stream",
          "name": "stdout",
          "text": [
            "Mounted at /content/drive\n"
          ]
        }
      ]
    },
    {
      "cell_type": "code",
      "source": [
        "pip install -U albumentations"
      ],
      "metadata": {
        "id": "8qR-_aAXHmhb"
      },
      "execution_count": null,
      "outputs": []
    },
    {
      "cell_type": "code",
      "source": [
        "pip uninstall opencv-python-headless==4.5.5.62"
      ],
      "metadata": {
        "id": "6R54GA9wIf5h"
      },
      "execution_count": null,
      "outputs": []
    },
    {
      "cell_type": "code",
      "source": [
        "pip install opencv-python-headless==4.5.2.52"
      ],
      "metadata": {
        "id": "ptybqpBsJqtG"
      },
      "execution_count": null,
      "outputs": []
    },
    {
      "cell_type": "code",
      "source": [
        "import os\n",
        "import logging\n",
        "import tensorflow as tf\n",
        "import matplotlib.pyplot as plt\n",
        "import numpy as np\n",
        "# from efficientnet.keras import preprocess_input\n",
        "from keras.models import load_model\n",
        "from tensorflow.keras.layers import Input\n",
        "from tensorflow.keras.models import Model, Sequential\n",
        "from tensorflow.keras.layers import Input, Layer, ReLU, Conv2D, MaxPooling2D, GlobalAveragePooling2D, Dense, Add, Concatenate, Dropout\n",
        "from tensorflow.keras.models import Model\n",
        "from tensorflow.keras.applications import DenseNet121\n",
        "from tensorflow.keras.applications.vgg16 import VGG16\n",
        "from tensorflow.keras.applications.vgg16 import preprocess_input\n",
        "from tensorflow.keras.preprocessing import image\n",
        "from tensorflow.keras.preprocessing.image import ImageDataGenerator\n",
        "from tensorflow.keras.models import Sequential\n",
        "from tensorflow.keras.callbacks import EarlyStopping\n",
        "from sklearn.metrics import accuracy_score,classification_report,confusion_matrix,ConfusionMatrixDisplay\n",
        "from tensorflow.keras.applications.densenet import preprocess_input\n",
        "from tensorflow.keras.optimizers import Adam\n",
        "from tensorflow.keras.callbacks import ModelCheckpoint, ReduceLROnPlateau\n",
        "from tensorflow.keras.layers import Input, AveragePooling2D, ReLU, AlphaDropout, Conv2D, GlobalAveragePooling2D, Dense, Add, Concatenate, Dropout\n",
        "from tensorflow.keras.models import Model\n",
        "from tensorflow.keras.applications import InceptionV3, VGG16, MobileNetV2, ResNet50V2\n",
        "from tensorflow.keras.applications.inception_v3 import preprocess_input\n",
        "from tensorflow.keras.preprocessing import image\n",
        "from tensorflow.keras.preprocessing.image import ImageDataGenerator\n",
        "from tensorflow.keras.models import Sequential\n",
        "from tensorflow.keras.callbacks import EarlyStopping\n",
        "from sklearn.metrics import accuracy_score,classification_report,confusion_matrix,ConfusionMatrixDisplay\n",
        "from tensorflow.keras.optimizers import Adam, SGD\n",
        "from tensorflow.keras.callbacks import ModelCheckpoint, ReduceLROnPlateau\n",
        "\n",
        "import tensorflow as tf\n",
        "import numpy as np\n",
        "import pandas as pd\n",
        "import matplotlib.pyplot as plt\n",
        "\n",
        "import tensorflow as tf\n",
        "import numpy as np\n",
        "import pandas as pd\n",
        "import matplotlib.pyplot as plt\n",
        "# from keras.utils import load_img, img_to_array\n",
        "\n",
        "import cv2\n",
        "import albumentations as A\n",
        "\n",
        "tf.get_logger().setLevel(logging.ERROR)\n",
        "\n",
        "os.environ['TF_CPP_MIN_LOG_LEVEL'] = '3' "
      ],
      "metadata": {
        "id": "grezGoG_h3Tt"
      },
      "execution_count": 20,
      "outputs": []
    },
    {
      "cell_type": "code",
      "source": [
        "img_rows, img_cols = 224, 224\n",
        "channel_depth = 3\n",
        "input_shape = (img_rows,img_cols,channel_depth)\n",
        "model_input = Input(shape=input_shape)\n"
      ],
      "metadata": {
        "id": "TvrXsTWj7QHM"
      },
      "execution_count": 3,
      "outputs": []
    },
    {
      "cell_type": "markdown",
      "source": [
        "# DenseNet121"
      ],
      "metadata": {
        "id": "VEVYsPqVBYTJ"
      }
    },
    {
      "cell_type": "code",
      "source": [
        "def my_model1(model_input):\n",
        "    densenet = DenseNet121(weights='imagenet', include_top=False, input_tensor=model_input)\n",
        "    for layer in densenet.layers:layer.trainable = False\n",
        "    # our layers - you can add more if you want\n",
        "    y = GlobalAveragePooling2D()(densenet.output)\n",
        "    y = Dense(512, activation='relu', use_bias=True)(y)\n",
        "    y = Dropout(0.5)(y)\n",
        "    prediction = Dense(5,activation='softmax')(y)\n",
        "    model = Model(inputs=densenet.input, outputs=prediction)\n",
        "    # tell the model what cost and optimization method to use\n",
        "    return model"
      ],
      "metadata": {
        "id": "FyUOprsrBWBV"
      },
      "execution_count": 128,
      "outputs": []
    },
    {
      "cell_type": "code",
      "source": [
        "model1 = my_model1(model_input)"
      ],
      "metadata": {
        "id": "Alkj05q37sRD"
      },
      "execution_count": 137,
      "outputs": []
    },
    {
      "cell_type": "code",
      "source": [
        "#model1.load_weights('/content/drive/MyDrive/weights/stage1/densenet121_1.h5')"
      ],
      "metadata": {
        "id": "NAP9VRsg757Q"
      },
      "execution_count": null,
      "outputs": []
    },
    {
      "cell_type": "markdown",
      "source": [
        "# InceptionV3"
      ],
      "metadata": {
        "id": "TqY-Iio8BejN"
      }
    },
    {
      "cell_type": "code",
      "source": [
        "def my_model2(model_input):\n",
        "    InceptionV3_builder = InceptionV3(\n",
        "        weights='imagenet', \n",
        "        include_top=False, \n",
        "        input_tensor = model_input\n",
        "    )\n",
        "\n",
        "#FINE-TUNING\n",
        "    for layer in InceptionV3_builder.layers:\n",
        "        layer.trainable = False\n",
        "    for BatchNormalization in InceptionV3_builder.layers:\n",
        "        BatchNormalization.trainable = True\n",
        "    x = InceptionV3_builder.layers[-1].output    \n",
        "    x = GlobalAveragePooling2D(name='GAP-inceptionv3')(x)\n",
        "    x = Dropout(0.5, name='Droput-inceptionv3')(x)\n",
        "    predictions = Dense(5, activation='softmax', name='Softmax-inceptionv3')(x)\n",
        "    model = Model(inputs=InceptionV3_builder.input, outputs=predictions, name='inceptionv3')\n",
        "    return model"
      ],
      "metadata": {
        "id": "h7P7xwuG8ozE"
      },
      "execution_count": 127,
      "outputs": []
    },
    {
      "cell_type": "code",
      "source": [
        "model2 = my_model2(model_input)"
      ],
      "metadata": {
        "id": "RcE1KqKh89iA"
      },
      "execution_count": 138,
      "outputs": []
    },
    {
      "cell_type": "code",
      "source": [
        "#model2.load_weights('/content/drive/MyDrive/weights/stage1/InceptionV3_1.h5')"
      ],
      "metadata": {
        "id": "xCCycRbO89lw"
      },
      "execution_count": null,
      "outputs": []
    },
    {
      "cell_type": "markdown",
      "source": [
        "# VGG16"
      ],
      "metadata": {
        "id": "3sGAohCXBlfD"
      }
    },
    {
      "cell_type": "code",
      "source": [
        "def my_model3(model_input):\n",
        "    densenet = VGG16(weights='imagenet', include_top=False, input_tensor=model_input)\n",
        "    for layer in densenet.layers:layer.trainable = False\n",
        "    # our layers - you can add more if you want\n",
        "    y = GlobalAveragePooling2D()(densenet.output)\n",
        "    y = Dense(512, activation='relu', use_bias=True)(y)\n",
        "    y = Dropout(0.5)(y)\n",
        "    prediction = Dense(5,activation='softmax')(y)\n",
        "    model = Model(inputs=densenet.input, outputs=prediction)\n",
        "    # tell the model what cost and optimization method to use\n",
        "    return model"
      ],
      "metadata": {
        "id": "qd8G6HbDAlrX"
      },
      "execution_count": 126,
      "outputs": []
    },
    {
      "cell_type": "code",
      "source": [
        "model3 = my_model3(model_input)"
      ],
      "metadata": {
        "id": "1iYrUPV3A2JB"
      },
      "execution_count": 139,
      "outputs": []
    },
    {
      "cell_type": "code",
      "source": [
        "#model3.load_weights('/content/drive/MyDrive/weights/stage1/VGG16_1.h5')"
      ],
      "metadata": {
        "id": "GbjVnAX8A6LG"
      },
      "execution_count": 140,
      "outputs": []
    },
    {
      "cell_type": "markdown",
      "source": [
        "# Fusion Model"
      ],
      "metadata": {
        "id": "KlNdOB2QBpgg"
      }
    },
    {
      "cell_type": "code",
      "source": [
        "models = [model1, model2, model3]"
      ],
      "metadata": {
        "id": "OU0bTlTmoNs7"
      },
      "execution_count": 141,
      "outputs": []
    },
    {
      "cell_type": "code",
      "source": [
        "[m.layers[0] for m in models]"
      ],
      "metadata": {
        "colab": {
          "base_uri": "https://localhost:8080/"
        },
        "id": "GwDhUw8I9u6e",
        "outputId": "5e72fec2-9c75-4300-84c1-2b70fe31c5c0"
      },
      "execution_count": 142,
      "outputs": [
        {
          "output_type": "execute_result",
          "data": {
            "text/plain": [
              "[<keras.engine.input_layer.InputLayer at 0x7ff463de7950>,\n",
              " <keras.engine.input_layer.InputLayer at 0x7ff463de7950>,\n",
              " <keras.engine.input_layer.InputLayer at 0x7ff463de7950>]"
            ]
          },
          "metadata": {},
          "execution_count": 142
        }
      ]
    },
    {
      "cell_type": "code",
      "source": [
        "outputs = [m.output for m in models]\n",
        "y = tf.keras.layers.Average()(outputs)\n",
        "TDCNN_1 = Model(model_input, y, name='TDCNN_1')"
      ],
      "metadata": {
        "id": "gLIGjypBpCLZ"
      },
      "execution_count": 143,
      "outputs": []
    },
    {
      "cell_type": "code",
      "source": [
        "TDCNN_1.input"
      ],
      "metadata": {
        "id": "dpoE-x40Uv-V",
        "colab": {
          "base_uri": "https://localhost:8080/"
        },
        "outputId": "f47fe13c-6966-460e-98ea-edb6623712ef"
      },
      "execution_count": 144,
      "outputs": [
        {
          "output_type": "execute_result",
          "data": {
            "text/plain": [
              "<KerasTensor: shape=(None, 224, 224, 3) dtype=float32 (created by layer 'input_1')>"
            ]
          },
          "metadata": {},
          "execution_count": 144
        }
      ]
    },
    {
      "cell_type": "code",
      "source": [
        "train_path=\"/content/drive/MyDrive/Dataset Moisture Kopi/train\"\n",
        "validation_path= \"/content/drive/MyDrive/Dataset Moisture Kopi/validation\"\n",
        "test_path=\"/content/drive/MyDrive/Dataset Moisture Kopi/test\""
      ],
      "metadata": {
        "id": "_NwiySCRK215"
      },
      "execution_count": 113,
      "outputs": []
    },
    {
      "cell_type": "code",
      "source": [
        "!mkdir datacof\n",
        "!mkdir datacof/15"
      ],
      "metadata": {
        "id": "gfidSI7mOtgA"
      },
      "execution_count": 38,
      "outputs": []
    },
    {
      "cell_type": "code",
      "source": [
        "import shutil"
      ],
      "metadata": {
        "id": "s29Mn9hVQcWY"
      },
      "execution_count": 39,
      "outputs": []
    },
    {
      "cell_type": "code",
      "source": [
        "IMG_SIZE = (224,224)\n",
        "\n",
        "def ImgDataGen(file_path):\n",
        "    file_datagen = ImageDataGenerator(\n",
        "                      rescale=1./255,\n",
        "                      rotation_range=30,\n",
        "                      horizontal_flip=True,\n",
        "                      width_shift_range = 0.2,\n",
        "                      height_shift_range = 0.2,\n",
        "                      shear_range = 0.1,\n",
        "                      fill_mode = 'nearest'\n",
        "                      )\n",
        "    \n",
        "    data_set = file_datagen.flow_from_directory(file_path,\n",
        "                                                target_size = IMG_SIZE,\n",
        "                                                batch_size = 16,\n",
        "                                                class_mode = 'categorical')\n",
        "    return data_set\n"
      ],
      "metadata": {
        "id": "7wOeGq2SKRgs"
      },
      "execution_count": 114,
      "outputs": []
    },
    {
      "cell_type": "code",
      "source": [
        "training_set, val_set, test_set = ImgDataGen(train_path), ImgDataGen(validation_path), ImgDataGen(test_path)"
      ],
      "metadata": {
        "colab": {
          "base_uri": "https://localhost:8080/"
        },
        "id": "mSZhImCMKqhz",
        "outputId": "3d0d8419-389e-4fb3-edef-d7a39bc0341a"
      },
      "execution_count": 115,
      "outputs": [
        {
          "output_type": "stream",
          "name": "stdout",
          "text": [
            "Found 109 images belonging to 5 classes.\n",
            "Found 10 images belonging to 5 classes.\n",
            "Found 10 images belonging to 5 classes.\n"
          ]
        }
      ]
    },
    {
      "cell_type": "code",
      "source": [
        "training_set.class_indices"
      ],
      "metadata": {
        "colab": {
          "base_uri": "https://localhost:8080/"
        },
        "id": "TfcIqlW0nHL5",
        "outputId": "728f56bf-c6b5-4e51-c2c7-2851403ab108"
      },
      "execution_count": 116,
      "outputs": [
        {
          "output_type": "execute_result",
          "data": {
            "text/plain": [
              "{'13,2_': 0, '13_': 1, '14_': 2, '15_': 3, '_15_': 4}"
            ]
          },
          "metadata": {},
          "execution_count": 116
        }
      ]
    },
    {
      "cell_type": "code",
      "source": [
        "nb_train_samples = len(training_set.filenames)\n",
        "nb_validation_samples = len(val_set.filenames)"
      ],
      "metadata": {
        "id": "ceMpu5BZoins"
      },
      "execution_count": 124,
      "outputs": []
    },
    {
      "cell_type": "code",
      "source": [
        "#MODEL COMPILATION WITH HYPER-PARAMETERS, LOSS FUNCTIONS AND TRAINING!\n",
        "import time\n",
        "\n",
        "batch_size = 16\n",
        "\n",
        "epochs = 25\n",
        "\n",
        "start_time = time.time()\n",
        "\n",
        "optimizer = Adam(learning_rate=0.0001)\n",
        "\n",
        "TDCNN_1.compile(\n",
        "    optimizer=optimizer, \n",
        "    loss='categorical_crossentropy', \n",
        "    metrics=['accuracy']\n",
        ") \n",
        "\n",
        "reduce_lr = ReduceLROnPlateau(\n",
        "    monitor='val_accuracy', \n",
        "    factor=0.5, \n",
        "    patience=2,                          \n",
        "    verbose=1, \n",
        "    mode='max', \n",
        "    min_lr=0.000001\n",
        ")\n",
        "\n",
        "callbacks = [reduce_lr]\n",
        "\n",
        "history = TDCNN_1.fit(\n",
        "    training_set,\n",
        "    epochs=epochs, \n",
        "    steps_per_epoch=nb_train_samples // batch_size,\n",
        "    validation_data=val_set,\n",
        "    callbacks=callbacks, \n",
        "    validation_steps=nb_validation_samples // batch_size, \n",
        "    verbose=1\n",
        ")\n",
        "\n",
        "elapsed_time = time.time() - start_time\n",
        "time.strftime(\"%H:%M:%S\", time.gmtime(elapsed_time))\n",
        "\n",
        "\n",
        "\n"
      ],
      "metadata": {
        "colab": {
          "base_uri": "https://localhost:8080/",
          "height": 903
        },
        "id": "OzFgzjM9nS7n",
        "outputId": "72eb55d2-68f0-4e23-960b-b02340ac25c5"
      },
      "execution_count": 145,
      "outputs": [
        {
          "output_type": "stream",
          "name": "stdout",
          "text": [
            "Epoch 1/25\n",
            "6/6 [==============================] - 140s 20s/step - loss: 1.7413 - accuracy: 0.1875 - lr: 1.0000e-04\n",
            "Epoch 2/25\n",
            "6/6 [==============================] - 116s 19s/step - loss: 1.5019 - accuracy: 0.2903 - lr: 1.0000e-04\n",
            "Epoch 3/25\n",
            "6/6 [==============================] - 114s 19s/step - loss: 1.2670 - accuracy: 0.5161 - lr: 1.0000e-04\n",
            "Epoch 4/25\n",
            "6/6 [==============================] - 120s 20s/step - loss: 1.1925 - accuracy: 0.6022 - lr: 1.0000e-04\n",
            "Epoch 5/25\n",
            "6/6 [==============================] - 118s 19s/step - loss: 1.0815 - accuracy: 0.6354 - lr: 1.0000e-04\n",
            "Epoch 6/25\n",
            "6/6 [==============================] - 116s 19s/step - loss: 0.9978 - accuracy: 0.6989 - lr: 1.0000e-04\n",
            "Epoch 7/25\n",
            "6/6 [==============================] - 120s 20s/step - loss: 0.9879 - accuracy: 0.7604 - lr: 1.0000e-04\n",
            "Epoch 8/25\n",
            "6/6 [==============================] - 121s 20s/step - loss: 0.8986 - accuracy: 0.7812 - lr: 1.0000e-04\n",
            "Epoch 9/25\n",
            "6/6 [==============================] - 118s 19s/step - loss: 0.7718 - accuracy: 0.8710 - lr: 1.0000e-04\n",
            "Epoch 10/25\n",
            "6/6 [==============================] - 115s 19s/step - loss: 0.7592 - accuracy: 0.8280 - lr: 1.0000e-04\n",
            "Epoch 11/25\n",
            "6/6 [==============================] - 117s 19s/step - loss: 0.7208 - accuracy: 0.8817 - lr: 1.0000e-04\n",
            "Epoch 12/25\n",
            "6/6 [==============================] - 115s 19s/step - loss: 0.6575 - accuracy: 0.8710 - lr: 1.0000e-04\n",
            "Epoch 13/25\n",
            "6/6 [==============================] - 117s 19s/step - loss: 0.6777 - accuracy: 0.8710 - lr: 1.0000e-04\n",
            "Epoch 14/25\n",
            "6/6 [==============================] - 117s 20s/step - loss: 0.6742 - accuracy: 0.8710 - lr: 1.0000e-04\n",
            "Epoch 15/25\n",
            "6/6 [==============================] - 115s 19s/step - loss: 0.6575 - accuracy: 0.7742 - lr: 1.0000e-04\n",
            "Epoch 16/25\n",
            "6/6 [==============================] - 117s 19s/step - loss: 0.6204 - accuracy: 0.8280 - lr: 1.0000e-04\n",
            "Epoch 17/25\n",
            "6/6 [==============================] - 118s 19s/step - loss: 0.5956 - accuracy: 0.8925 - lr: 1.0000e-04\n",
            "Epoch 18/25\n",
            "6/6 [==============================] - 117s 19s/step - loss: 0.5604 - accuracy: 0.9140 - lr: 1.0000e-04\n",
            "Epoch 19/25\n",
            "6/6 [==============================] - 119s 20s/step - loss: 0.5293 - accuracy: 0.8958 - lr: 1.0000e-04\n",
            "Epoch 20/25\n",
            "6/6 [==============================] - 114s 19s/step - loss: 0.5839 - accuracy: 0.8817 - lr: 1.0000e-04\n",
            "Epoch 21/25\n",
            "6/6 [==============================] - 116s 20s/step - loss: 0.5848 - accuracy: 0.8602 - lr: 1.0000e-04\n",
            "Epoch 22/25\n",
            "6/6 [==============================] - 119s 20s/step - loss: 0.5996 - accuracy: 0.8602 - lr: 1.0000e-04\n",
            "Epoch 23/25\n",
            "6/6 [==============================] - 118s 19s/step - loss: 0.5762 - accuracy: 0.8925 - lr: 1.0000e-04\n",
            "Epoch 24/25\n",
            "6/6 [==============================] - 116s 19s/step - loss: 0.5304 - accuracy: 0.9032 - lr: 1.0000e-04\n",
            "Epoch 25/25\n",
            "6/6 [==============================] - 119s 19s/step - loss: 0.5448 - accuracy: 0.9167 - lr: 1.0000e-04\n"
          ]
        },
        {
          "output_type": "execute_result",
          "data": {
            "text/plain": [
              "'00:54:36'"
            ],
            "application/vnd.google.colaboratory.intrinsic+json": {
              "type": "string"
            }
          },
          "metadata": {},
          "execution_count": 145
        }
      ]
    },
    {
      "cell_type": "code",
      "source": [
        "# loss\n",
        "plt.plot(history.history['loss'], label='train loss')\n",
        "plt.plot(history.history['val_loss'], label='val loss')\n",
        "plt.legend()\n",
        "\n",
        "plt.savefig('vgg-loss-rps-1.png')\n",
        "plt.show()"
      ],
      "metadata": {
        "colab": {
          "base_uri": "https://localhost:8080/",
          "height": 488
        },
        "id": "PKfvnwGSuD1q",
        "outputId": "963cd9f9-b133-446f-f414-17a4fa81cfc3"
      },
      "execution_count": 148,
      "outputs": [
        {
          "output_type": "error",
          "ename": "KeyError",
          "evalue": "ignored",
          "traceback": [
            "\u001b[0;31m---------------------------------------------------------------------------\u001b[0m",
            "\u001b[0;31mKeyError\u001b[0m                                  Traceback (most recent call last)",
            "\u001b[0;32m<ipython-input-148-09f1b4da645b>\u001b[0m in \u001b[0;36m<module>\u001b[0;34m()\u001b[0m\n\u001b[1;32m      1\u001b[0m \u001b[0;31m# loss\u001b[0m\u001b[0;34m\u001b[0m\u001b[0;34m\u001b[0m\u001b[0;34m\u001b[0m\u001b[0m\n\u001b[1;32m      2\u001b[0m \u001b[0mplt\u001b[0m\u001b[0;34m.\u001b[0m\u001b[0mplot\u001b[0m\u001b[0;34m(\u001b[0m\u001b[0mhistory\u001b[0m\u001b[0;34m.\u001b[0m\u001b[0mhistory\u001b[0m\u001b[0;34m[\u001b[0m\u001b[0;34m'loss'\u001b[0m\u001b[0;34m]\u001b[0m\u001b[0;34m,\u001b[0m \u001b[0mlabel\u001b[0m\u001b[0;34m=\u001b[0m\u001b[0;34m'train loss'\u001b[0m\u001b[0;34m)\u001b[0m\u001b[0;34m\u001b[0m\u001b[0;34m\u001b[0m\u001b[0m\n\u001b[0;32m----> 3\u001b[0;31m \u001b[0mplt\u001b[0m\u001b[0;34m.\u001b[0m\u001b[0mplot\u001b[0m\u001b[0;34m(\u001b[0m\u001b[0mhistory\u001b[0m\u001b[0;34m.\u001b[0m\u001b[0mhistory\u001b[0m\u001b[0;34m[\u001b[0m\u001b[0;34m'val_loss'\u001b[0m\u001b[0;34m]\u001b[0m\u001b[0;34m,\u001b[0m \u001b[0mlabel\u001b[0m\u001b[0;34m=\u001b[0m\u001b[0;34m'val loss'\u001b[0m\u001b[0;34m)\u001b[0m\u001b[0;34m\u001b[0m\u001b[0;34m\u001b[0m\u001b[0m\n\u001b[0m\u001b[1;32m      4\u001b[0m \u001b[0mplt\u001b[0m\u001b[0;34m.\u001b[0m\u001b[0mlegend\u001b[0m\u001b[0;34m(\u001b[0m\u001b[0;34m)\u001b[0m\u001b[0;34m\u001b[0m\u001b[0;34m\u001b[0m\u001b[0m\n\u001b[1;32m      5\u001b[0m \u001b[0;34m\u001b[0m\u001b[0m\n",
            "\u001b[0;31mKeyError\u001b[0m: 'val_loss'"
          ]
        },
        {
          "output_type": "display_data",
          "data": {
            "text/plain": [
              "<Figure size 432x288 with 1 Axes>"
            ],
            "image/png": "[encoded data removed]"
          },
          "metadata": {
            "needs_background": "light"
          }
        }
      ]
    },
    {
      "cell_type": "code",
      "source": [
        "# accuracies\n",
        "plt.plot(history.history['accuracy'], label='train acc')\n",
        "plt.plot(history.history['val_accuracy'], label='val acc')\n",
        "plt.legend()\n",
        "\n",
        "plt.savefig('vgg-acc-rps-1.png')\n",
        "plt.show()"
      ],
      "metadata": {
        "colab": {
          "base_uri": "https://localhost:8080/",
          "height": 484
        },
        "id": "RjWuEBF_2lkb",
        "outputId": "b497114a-e071-4fa8-fd5e-cf34654c998d"
      },
      "execution_count": 149,
      "outputs": [
        {
          "output_type": "error",
          "ename": "KeyError",
          "evalue": "ignored",
          "traceback": [
            "\u001b[0;31m---------------------------------------------------------------------------\u001b[0m",
            "\u001b[0;31mKeyError\u001b[0m                                  Traceback (most recent call last)",
            "\u001b[0;32m<ipython-input-149-0d26ef7dcc60>\u001b[0m in \u001b[0;36m<module>\u001b[0;34m()\u001b[0m\n\u001b[1;32m      1\u001b[0m \u001b[0;31m# accuracies\u001b[0m\u001b[0;34m\u001b[0m\u001b[0;34m\u001b[0m\u001b[0;34m\u001b[0m\u001b[0m\n\u001b[1;32m      2\u001b[0m \u001b[0mplt\u001b[0m\u001b[0;34m.\u001b[0m\u001b[0mplot\u001b[0m\u001b[0;34m(\u001b[0m\u001b[0mhistory\u001b[0m\u001b[0;34m.\u001b[0m\u001b[0mhistory\u001b[0m\u001b[0;34m[\u001b[0m\u001b[0;34m'accuracy'\u001b[0m\u001b[0;34m]\u001b[0m\u001b[0;34m,\u001b[0m \u001b[0mlabel\u001b[0m\u001b[0;34m=\u001b[0m\u001b[0;34m'train acc'\u001b[0m\u001b[0;34m)\u001b[0m\u001b[0;34m\u001b[0m\u001b[0;34m\u001b[0m\u001b[0m\n\u001b[0;32m----> 3\u001b[0;31m \u001b[0mplt\u001b[0m\u001b[0;34m.\u001b[0m\u001b[0mplot\u001b[0m\u001b[0;34m(\u001b[0m\u001b[0mhistory\u001b[0m\u001b[0;34m.\u001b[0m\u001b[0mhistory\u001b[0m\u001b[0;34m[\u001b[0m\u001b[0;34m'val_accuracy'\u001b[0m\u001b[0;34m]\u001b[0m\u001b[0;34m,\u001b[0m \u001b[0mlabel\u001b[0m\u001b[0;34m=\u001b[0m\u001b[0;34m'val acc'\u001b[0m\u001b[0;34m)\u001b[0m\u001b[0;34m\u001b[0m\u001b[0;34m\u001b[0m\u001b[0m\n\u001b[0m\u001b[1;32m      4\u001b[0m \u001b[0mplt\u001b[0m\u001b[0;34m.\u001b[0m\u001b[0mlegend\u001b[0m\u001b[0;34m(\u001b[0m\u001b[0;34m)\u001b[0m\u001b[0;34m\u001b[0m\u001b[0;34m\u001b[0m\u001b[0m\n\u001b[1;32m      5\u001b[0m \u001b[0;34m\u001b[0m\u001b[0m\n",
            "\u001b[0;31mKeyError\u001b[0m: 'val_accuracy'"
          ]
        },
        {
          "output_type": "display_data",
          "data": {
            "text/plain": [
              "<Figure size 432x288 with 1 Axes>"
            ],
            "image/png": "[encoded data removed]"
          },
          "metadata": {
            "needs_background": "light"
          }
        }
      ]
    },
    {
      "cell_type": "code",
      "source": [
        "TDCNN_1.evaluate(test_set,batch_size=32)"
      ],
      "metadata": {
        "colab": {
          "base_uri": "https://localhost:8080/"
        },
        "id": "zpQ9L3dE2wPp",
        "outputId": "58aa6391-5fa6-4f15-e6a8-0ed50b8367d1"
      },
      "execution_count": 151,
      "outputs": [
        {
          "output_type": "stream",
          "name": "stdout",
          "text": [
            "1/1 [==============================] - 15s 15s/step - loss: 1.8761 - accuracy: 0.4000\n"
          ]
        },
        {
          "output_type": "execute_result",
          "data": {
            "text/plain": [
              "[1.8760744333267212, 0.4000000059604645]"
            ]
          },
          "metadata": {},
          "execution_count": 151
        }
      ]
    },
    {
      "cell_type": "code",
      "source": [
        "def report_test(test_set,model=TDCNN_1):\n",
        "    \n",
        "    # evaluating test\n",
        "    model.evaluate(test_set,batch_size=32)\n",
        "    y_pred=model.predict(test_set)\n",
        "    y_pred=np.argmax(y_pred,axis=1)\n",
        "    accuracy_score(y_pred,test_set.classes)\n",
        "    print(classification_report(y_pred,test_set.classes))\n",
        "    \n",
        "    # confusion_matrix\n",
        "    labels = [i for i in training_set.class_indices]\n",
        "    cm =confusion_matrix(y_pred, test_set.classes)\n",
        "    disp = ConfusionMatrixDisplay(cm,display_labels=labels)\n",
        "    disp.plot(cmap='Blues',xticks_rotation='vertical')\n",
        "    plt.show()\n",
        "\n",
        "report_test(test_set)"
      ],
      "metadata": {
        "colab": {
          "base_uri": "https://localhost:8080/",
          "height": 650
        },
        "id": "ZeCEVigN3ZAQ",
        "outputId": "f20bcb59-94bf-4217-f5c8-cef043ca9229"
      },
      "execution_count": 153,
      "outputs": [
        {
          "output_type": "stream",
          "name": "stdout",
          "text": [
            "1/1 [==============================] - 10s 10s/step - loss: 2.0548 - accuracy: 0.2000\n"
          ]
        },
        {
          "output_type": "stream",
          "name": "stderr",
          "text": [
            "/usr/local/lib/python3.7/dist-packages/sklearn/metrics/_classification.py:1318: UndefinedMetricWarning: Recall and F-score are ill-defined and being set to 0.0 in labels with no true samples. Use `zero_division` parameter to control this behavior.\n",
            "  _warn_prf(average, modifier, msg_start, len(result))\n",
            "/usr/local/lib/python3.7/dist-packages/sklearn/metrics/_classification.py:1318: UndefinedMetricWarning: Recall and F-score are ill-defined and being set to 0.0 in labels with no true samples. Use `zero_division` parameter to control this behavior.\n",
            "  _warn_prf(average, modifier, msg_start, len(result))\n",
            "/usr/local/lib/python3.7/dist-packages/sklearn/metrics/_classification.py:1318: UndefinedMetricWarning: Recall and F-score are ill-defined and being set to 0.0 in labels with no true samples. Use `zero_division` parameter to control this behavior.\n",
            "  _warn_prf(average, modifier, msg_start, len(result))\n"
          ]
        },
        {
          "output_type": "stream",
          "name": "stdout",
          "text": [
            "              precision    recall  f1-score   support\n",
            "\n",
            "           0       0.00      0.00      0.00         1\n",
            "           1       0.00      0.00      0.00         1\n",
            "           2       1.00      0.25      0.40         8\n",
            "           3       0.00      0.00      0.00         0\n",
            "           4       0.00      0.00      0.00         0\n",
            "\n",
            "    accuracy                           0.20        10\n",
            "   macro avg       0.20      0.05      0.08        10\n",
            "weighted avg       0.80      0.20      0.32        10\n",
            "\n"
          ]
        },
        {
          "output_type": "display_data",
          "data": {
            "text/plain": [
              "<Figure size 432x288 with 2 Axes>"
            ],
            "image/png": "[encoded data removed]"
          },
          "metadata": {
            "needs_background": "light"
          }
        }
      ]
    },
    {
      "cell_type": "code",
      "source": [
        "file_model = \"weights/TDCNN_1.h5\"\n",
        "tf.keras.models.save_model(TDCNN_1,file_model)"
      ],
      "metadata": {
        "id": "Ry04Kp450vSY"
      },
      "execution_count": 154,
      "outputs": []
    }
  ]
}