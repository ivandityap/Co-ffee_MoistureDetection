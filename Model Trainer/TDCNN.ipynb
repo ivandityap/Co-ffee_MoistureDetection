{
  "cells": [
    {
      "cell_type": "code",
      "execution_count": 1,
      "metadata": {
        "colab": {
          "base_uri": "https://localhost:8080/"
        },
        "id": "6IwraCW0htmr",
        "outputId": "34915d0c-93eb-4262-b980-c20d83b687b8"
      },
      "outputs": [
        {
          "name": "stdout",
          "output_type": "stream",
          "text": [
            "Mounted at /content/drive\n"
          ]
        }
      ],
      "source": [
        "from google.colab import drive\n",
        "drive.mount('/content/drive')"
      ]
    },
    {
      "cell_type": "code",
      "execution_count": 1,
      "metadata": {
        "id": "grezGoG_h3Tt"
      },
      "outputs": [],
      "source": [
        "import os\n",
        "import logging\n",
        "import tensorflow as tf\n",
        "import matplotlib.pyplot as plt\n",
        "import numpy as np\n",
        "# from efficientnet.keras import preprocess_input\n",
        "from keras.models import load_model\n",
        "from tensorflow.keras.layers import Input\n",
        "from tensorflow.keras.models import Model, Sequential\n",
        "from tensorflow.keras.layers import Input, Layer, ReLU, Conv2D, MaxPooling2D, GlobalAveragePooling2D, Dense, Add, Concatenate, Dropout\n",
        "from tensorflow.keras.models import Model\n",
        "from tensorflow.keras.applications import DenseNet121\n",
        "from tensorflow.keras.applications.vgg16 import VGG16\n",
        "from tensorflow.keras.applications.vgg16 import preprocess_input\n",
        "from tensorflow.keras.preprocessing import image\n",
        "from tensorflow.keras.preprocessing.image import ImageDataGenerator\n",
        "from tensorflow.keras.models import Sequential\n",
        "from tensorflow.keras.callbacks import EarlyStopping\n",
        "from sklearn.metrics import accuracy_score,classification_report,confusion_matrix,ConfusionMatrixDisplay\n",
        "from tensorflow.keras.applications.densenet import preprocess_input\n",
        "from tensorflow.keras.optimizers import Adam\n",
        "from tensorflow.keras.callbacks import ModelCheckpoint, ReduceLROnPlateau\n",
        "from tensorflow.keras.layers import Input, AveragePooling2D, ReLU, AlphaDropout, Conv2D, GlobalAveragePooling2D, Dense, Add, Concatenate, Dropout\n",
        "from tensorflow.keras.models import Model\n",
        "from tensorflow.keras.applications import InceptionV3, VGG16, MobileNetV2, ResNet50V2\n",
        "from tensorflow.keras.applications.inception_v3 import preprocess_input\n",
        "from tensorflow.keras.preprocessing import image\n",
        "from tensorflow.keras.preprocessing.image import ImageDataGenerator\n",
        "from tensorflow.keras.models import Sequential\n",
        "from tensorflow.keras.callbacks import EarlyStopping\n",
        "from sklearn.metrics import accuracy_score,classification_report,confusion_matrix,ConfusionMatrixDisplay\n",
        "from tensorflow.keras.optimizers import Adam, SGD\n",
        "from tensorflow.keras.callbacks import ModelCheckpoint, ReduceLROnPlateau\n",
        "\n",
        "import tensorflow as tf\n",
        "import numpy as np\n",
        "import pandas as pd\n",
        "import matplotlib.pyplot as plt\n",
        "\n",
        "import tensorflow as tf\n",
        "import numpy as np\n",
        "import pandas as pd\n",
        "import matplotlib.pyplot as plt\n",
        "# from keras.utils import load_img, img_to_array\n",
        "\n",
        "tf.get_logger().setLevel(logging.ERROR)\n",
        "\n",
        "os.environ['TF_CPP_MIN_LOG_LEVEL'] = '3' "
      ]
    },
    {
      "cell_type": "code",
      "execution_count": 8,
      "metadata": {
        "id": "TvrXsTWj7QHM"
      },
      "outputs": [],
      "source": [
        "img_rows, img_cols = 224, 224\n",
        "channel_depth = 3\n",
        "input_shape = (img_rows,img_cols,channel_depth)\n",
        "model_input = Input(shape=input_shape)\n"
      ]
    },
    {
      "cell_type": "markdown",
      "metadata": {
        "id": "VEVYsPqVBYTJ"
      },
      "source": [
        "# DenseNet121"
      ]
    },
    {
      "cell_type": "code",
      "execution_count": 9,
      "metadata": {
        "id": "FyUOprsrBWBV"
      },
      "outputs": [],
      "source": [
        "def my_model1(model_input):\n",
        "    densenet = DenseNet121(weights='imagenet', include_top=False, input_tensor=model_input)\n",
        "    for layer in densenet.layers:layer.trainable = False\n",
        "    # our layers - you can add more if you want\n",
        "    y = GlobalAveragePooling2D()(densenet.output)\n",
        "    y = Dense(512, activation='relu', use_bias=True)(y)\n",
        "    y = Dropout(0.5)(y)\n",
        "    prediction = Dense(5,activation='softmax')(y)\n",
        "    model = Model(inputs=densenet.input, outputs=prediction)\n",
        "    # tell the model what cost and optimization method to use\n",
        "    return model"
      ]
    },
    {
      "cell_type": "code",
      "execution_count": 10,
      "metadata": {
        "colab": {
          "base_uri": "https://localhost:8080/"
        },
        "id": "Alkj05q37sRD",
        "outputId": "ce9757b4-6b7c-42c4-d0fb-91bb0c82c785"
      },
      "outputs": [
        {
          "name": "stdout",
          "output_type": "stream",
          "text": [
            "Downloading data from https://storage.googleapis.com/tensorflow/keras-applications/densenet/densenet121_weights_tf_dim_ordering_tf_kernels_notop.h5\n",
            "29089792/29084464 [==============================] - 0s 0us/step\n",
            "29097984/29084464 [==============================] - 0s 0us/step\n"
          ]
        }
      ],
      "source": [
        "model1 = my_model1(model_input)"
      ]
    },
    {
      "cell_type": "code",
      "execution_count": null,
      "metadata": {
        "id": "NAP9VRsg757Q"
      },
      "outputs": [],
      "source": [
        "#model1.load_weights('/content/drive/MyDrive/weights/stage1/densenet121_1.h5')"
      ]
    },
    {
      "cell_type": "markdown",
      "metadata": {
        "id": "TqY-Iio8BejN"
      },
      "source": [
        "# InceptionV3"
      ]
    },
    {
      "cell_type": "code",
      "execution_count": 11,
      "metadata": {
        "id": "h7P7xwuG8ozE"
      },
      "outputs": [],
      "source": [
        "def my_model2(model_input):\n",
        "    InceptionV3_builder = InceptionV3(\n",
        "        weights='imagenet', \n",
        "        include_top=False, \n",
        "        input_tensor = model_input\n",
        "    )\n",
        "\n",
        "#FINE-TUNING\n",
        "    for layer in InceptionV3_builder.layers:\n",
        "        layer.trainable = False\n",
        "    for BatchNormalization in InceptionV3_builder.layers:\n",
        "        BatchNormalization.trainable = True\n",
        "    x = InceptionV3_builder.layers[-1].output    \n",
        "    x = GlobalAveragePooling2D(name='GAP-inceptionv3')(x)\n",
        "    x = Dropout(0.5, name='Droput-inceptionv3')(x)\n",
        "    predictions = Dense(5, activation='softmax', name='Softmax-inceptionv3')(x)\n",
        "    model = Model(inputs=InceptionV3_builder.input, outputs=predictions, name='inceptionv3')\n",
        "    return model"
      ]
    },
    {
      "cell_type": "code",
      "execution_count": 12,
      "metadata": {
        "colab": {
          "base_uri": "https://localhost:8080/"
        },
        "id": "RcE1KqKh89iA",
        "outputId": "4cb30fdb-e8c9-44e8-b354-62f213612fe2"
      },
      "outputs": [
        {
          "name": "stdout",
          "output_type": "stream",
          "text": [
            "Downloading data from https://storage.googleapis.com/tensorflow/keras-applications/inception_v3/inception_v3_weights_tf_dim_ordering_tf_kernels_notop.h5\n",
            "87916544/87910968 [==============================] - 0s 0us/step\n",
            "87924736/87910968 [==============================] - 0s 0us/step\n"
          ]
        }
      ],
      "source": [
        "model2 = my_model2(model_input)"
      ]
    },
    {
      "cell_type": "code",
      "execution_count": null,
      "metadata": {
        "id": "xCCycRbO89lw"
      },
      "outputs": [],
      "source": [
        "#model2.load_weights('/content/drive/MyDrive/weights/stage1/InceptionV3_1.h5')"
      ]
    },
    {
      "cell_type": "markdown",
      "metadata": {
        "id": "3sGAohCXBlfD"
      },
      "source": [
        "# VGG16"
      ]
    },
    {
      "cell_type": "code",
      "execution_count": 13,
      "metadata": {
        "id": "qd8G6HbDAlrX"
      },
      "outputs": [],
      "source": [
        "def my_model3(model_input):\n",
        "    densenet = VGG16(weights='imagenet', include_top=False, input_tensor=model_input)\n",
        "    for layer in densenet.layers:layer.trainable = False\n",
        "    # our layers - you can add more if you want\n",
        "    y = GlobalAveragePooling2D()(densenet.output)\n",
        "    y = Dense(512, activation='relu', use_bias=True)(y)\n",
        "    y = Dropout(0.5)(y)\n",
        "    prediction = Dense(5,activation='softmax')(y)\n",
        "    model = Model(inputs=densenet.input, outputs=prediction)\n",
        "    # tell the model what cost and optimization method to use\n",
        "    return model"
      ]
    },
    {
      "cell_type": "code",
      "execution_count": 14,
      "metadata": {
        "colab": {
          "base_uri": "https://localhost:8080/"
        },
        "id": "1iYrUPV3A2JB",
        "outputId": "5d02a205-fcf2-4623-afcd-746a34a8227f"
      },
      "outputs": [
        {
          "name": "stdout",
          "output_type": "stream",
          "text": [
            "Downloading data from https://storage.googleapis.com/tensorflow/keras-applications/vgg16/vgg16_weights_tf_dim_ordering_tf_kernels_notop.h5\n",
            "58892288/58889256 [==============================] - 0s 0us/step\n",
            "58900480/58889256 [==============================] - 0s 0us/step\n"
          ]
        }
      ],
      "source": [
        "model3 = my_model3(model_input)"
      ]
    },
    {
      "cell_type": "code",
      "execution_count": null,
      "metadata": {
        "id": "GbjVnAX8A6LG"
      },
      "outputs": [],
      "source": [
        "#model3.load_weights('/content/drive/MyDrive/weights/stage1/VGG16_1.h5')"
      ]
    },
    {
      "cell_type": "markdown",
      "metadata": {
        "id": "KlNdOB2QBpgg"
      },
      "source": [
        "# Fusion Model"
      ]
    },
    {
      "cell_type": "code",
      "execution_count": 15,
      "metadata": {
        "id": "OU0bTlTmoNs7"
      },
      "outputs": [],
      "source": [
        "models = [model1, model2, model3]"
      ]
    },
    {
      "cell_type": "code",
      "execution_count": 16,
      "metadata": {
        "colab": {
          "base_uri": "https://localhost:8080/"
        },
        "id": "GwDhUw8I9u6e",
        "outputId": "17125301-f0e3-4cbc-be02-4451d6851cb1"
      },
      "outputs": [
        {
          "data": {
            "text/plain": [
              "[<keras.engine.input_layer.InputLayer at 0x7f22950a8f50>,\n",
              " <keras.engine.input_layer.InputLayer at 0x7f22950a8f50>,\n",
              " <keras.engine.input_layer.InputLayer at 0x7f22950a8f50>]"
            ]
          },
          "execution_count": 16,
          "metadata": {},
          "output_type": "execute_result"
        }
      ],
      "source": [
        "[m.layers[0] for m in models]"
      ]
    },
    {
      "cell_type": "code",
      "execution_count": 17,
      "metadata": {
        "id": "gLIGjypBpCLZ"
      },
      "outputs": [],
      "source": [
        "outputs = [m.output for m in models]\n",
        "y = tf.keras.layers.Average()(outputs)\n",
        "TDCNN = Model(model_input, y, name='TDCNN')"
      ]
    },
    {
      "cell_type": "markdown",
      "metadata": {},
      "source": [
        "# Pre-processing the images"
      ]
    },
    {
      "cell_type": "code",
      "execution_count": 5,
      "metadata": {
        "id": "_NwiySCRK215"
      },
      "outputs": [],
      "source": [
        "train_path=\"Data_Moisture/train\"\n",
        "validation_path= \"Data_Moisture/val\"\n",
        "test_path=\"Data_Moisture/test\""
      ]
    },
    {
      "cell_type": "code",
      "execution_count": 6,
      "metadata": {
        "id": "7wOeGq2SKRgs"
      },
      "outputs": [],
      "source": [
        "IMG_SIZE = (224,224)\n",
        "\n",
        "def ImgDataGen(file_path, f=False):\n",
        "    file_datagen = ImageDataGenerator(preprocessing_function=preprocess_input)\n",
        "    \n",
        "    data_set = file_datagen.flow_from_directory(file_path,\n",
        "                                                target_size = IMG_SIZE,\n",
        "                                                batch_size = 16,\n",
        "                                                class_mode = 'categorical',\n",
        "                                                shuffle = f)\n",
        "    return data_set\n"
      ]
    },
    {
      "cell_type": "code",
      "execution_count": 7,
      "metadata": {
        "colab": {
          "base_uri": "https://localhost:8080/"
        },
        "id": "mSZhImCMKqhz",
        "outputId": "69070534-b91c-4ee5-e079-944250478070"
      },
      "outputs": [
        {
          "name": "stdout",
          "output_type": "stream",
          "text": [
            "Found 324 images belonging to 5 classes.\n",
            "Found 92 images belonging to 5 classes.\n",
            "Found 50 images belonging to 5 classes.\n"
          ]
        }
      ],
      "source": [
        "training_set, val_set, test_set = ImgDataGen(train_path,f=True), ImgDataGen(validation_path), ImgDataGen(test_path)"
      ]
    },
    {
      "cell_type": "code",
      "execution_count": 8,
      "metadata": {
        "colab": {
          "base_uri": "https://localhost:8080/"
        },
        "id": "TfcIqlW0nHL5",
        "outputId": "4fe07e40-76fa-4210-bf19-ef69f53ea743"
      },
      "outputs": [
        {
          "name": "stdout",
          "output_type": "stream",
          "text": [
            "['0_13', '1_13.2', '2_14', '3_15', '4_15 (higher)']\n"
          ]
        }
      ],
      "source": [
        "nb_train_samples = len(training_set.filenames)\n",
        "nb_validation_samples = len(val_set.filenames)\n",
        "nb_test_samples = len(test_set.filenames)\n",
        "num_classes= len(training_set.class_indices)\n",
        "labels = [i for i in training_set.class_indices]\n",
        "print(labels)\n",
        "labels = ['13 %','13.2 %', '14 %', '15 %', '> 15 %']"
      ]
    },
    {
      "cell_type": "markdown",
      "metadata": {},
      "source": [
        "# Train the model"
      ]
    },
    {
      "cell_type": "code",
      "execution_count": 29,
      "metadata": {
        "colab": {
          "base_uri": "https://localhost:8080/",
          "height": 1000
        },
        "id": "OzFgzjM9nS7n",
        "outputId": "3e862f79-b452-4c52-973c-0f315f367024"
      },
      "outputs": [
        {
          "name": "stdout",
          "output_type": "stream",
          "text": [
            "Epoch 1/25\n",
            "20/20 [==============================] - 444s 21s/step - loss: 1.3586 - accuracy: 0.4643 - val_loss: 1.2867 - val_accuracy: 0.4250 - lr: 1.0000e-04\n",
            "Epoch 2/25\n",
            "20/20 [==============================] - 418s 21s/step - loss: 1.0099 - accuracy: 0.6656 - val_loss: 1.1628 - val_accuracy: 0.5500 - lr: 1.0000e-04\n",
            "Epoch 3/25\n",
            "20/20 [==============================] - 420s 21s/step - loss: 0.8314 - accuracy: 0.8474 - val_loss: 1.0383 - val_accuracy: 0.5875 - lr: 1.0000e-04\n",
            "Epoch 4/25\n",
            "20/20 [==============================] - 414s 21s/step - loss: 0.7217 - accuracy: 0.8896 - val_loss: 0.8727 - val_accuracy: 0.7250 - lr: 1.0000e-04\n",
            "Epoch 5/25\n",
            "20/20 [==============================] - 414s 21s/step - loss: 0.6547 - accuracy: 0.9351 - val_loss: 0.8164 - val_accuracy: 0.7625 - lr: 1.0000e-04\n",
            "Epoch 6/25\n",
            "20/20 [==============================] - 414s 21s/step - loss: 0.6191 - accuracy: 0.9513 - val_loss: 0.7422 - val_accuracy: 0.8250 - lr: 1.0000e-04\n",
            "Epoch 7/25\n",
            "20/20 [==============================] - 415s 22s/step - loss: 0.6004 - accuracy: 0.9643 - val_loss: 0.7359 - val_accuracy: 0.8000 - lr: 1.0000e-04\n",
            "Epoch 8/25\n",
            "20/20 [==============================] - 415s 21s/step - loss: 0.5529 - accuracy: 0.9805 - val_loss: 0.7048 - val_accuracy: 0.8375 - lr: 1.0000e-04\n",
            "Epoch 9/25\n",
            "20/20 [==============================] - 417s 21s/step - loss: 0.5470 - accuracy: 0.9610 - val_loss: 0.6626 - val_accuracy: 0.8500 - lr: 1.0000e-04\n",
            "Epoch 10/25\n",
            "20/20 [==============================] - 419s 21s/step - loss: 0.5140 - accuracy: 0.9838 - val_loss: 0.6435 - val_accuracy: 0.8875 - lr: 1.0000e-04\n",
            "Epoch 11/25\n",
            "20/20 [==============================] - 414s 21s/step - loss: 0.4862 - accuracy: 0.9773 - val_loss: 0.6101 - val_accuracy: 0.8750 - lr: 1.0000e-04\n",
            "Epoch 12/25\n",
            "20/20 [==============================] - ETA: 0s - loss: 0.4851 - accuracy: 0.9773 \n",
            "Epoch 12: ReduceLROnPlateau reducing learning rate to 4.999999873689376e-05.\n",
            "20/20 [==============================] - 418s 21s/step - loss: 0.4851 - accuracy: 0.9773 - val_loss: 0.6048 - val_accuracy: 0.8625 - lr: 1.0000e-04\n",
            "Epoch 13/25\n",
            "20/20 [==============================] - 427s 21s/step - loss: 0.4748 - accuracy: 0.9906 - val_loss: 0.6176 - val_accuracy: 0.8625 - lr: 5.0000e-05\n",
            "Epoch 14/25\n",
            "20/20 [==============================] - 418s 21s/step - loss: 0.4587 - accuracy: 0.9968 - val_loss: 0.5818 - val_accuracy: 0.9000 - lr: 5.0000e-05\n",
            "Epoch 15/25\n",
            "20/20 [==============================] - 415s 21s/step - loss: 0.4644 - accuracy: 0.9773 - val_loss: 0.5846 - val_accuracy: 0.8875 - lr: 5.0000e-05\n",
            "Epoch 16/25\n",
            "20/20 [==============================] - ETA: 0s - loss: 0.4463 - accuracy: 0.9805 \n",
            "Epoch 16: ReduceLROnPlateau reducing learning rate to 2.499999936844688e-05.\n",
            "20/20 [==============================] - 412s 21s/step - loss: 0.4463 - accuracy: 0.9805 - val_loss: 0.5825 - val_accuracy: 0.8625 - lr: 5.0000e-05\n",
            "Epoch 17/25\n",
            "20/20 [==============================] - 411s 21s/step - loss: 0.4381 - accuracy: 0.9805 - val_loss: 0.6046 - val_accuracy: 0.8875 - lr: 2.5000e-05\n",
            "Epoch 18/25\n",
            "20/20 [==============================] - ETA: 0s - loss: 0.4367 - accuracy: 0.9805 \n",
            "Epoch 18: ReduceLROnPlateau reducing learning rate to 1.249999968422344e-05.\n",
            "20/20 [==============================] - 420s 21s/step - loss: 0.4367 - accuracy: 0.9805 - val_loss: 0.5835 - val_accuracy: 0.8875 - lr: 2.5000e-05\n",
            "Epoch 19/25\n",
            "20/20 [==============================] - 412s 21s/step - loss: 0.4446 - accuracy: 0.9740 - val_loss: 0.5686 - val_accuracy: 0.9000 - lr: 1.2500e-05\n",
            "Epoch 20/25\n",
            "20/20 [==============================] - 411s 21s/step - loss: 0.4349 - accuracy: 0.9773 - val_loss: 0.5176 - val_accuracy: 0.9125 - lr: 1.2500e-05\n",
            "Epoch 21/25\n",
            "20/20 [==============================] - 414s 21s/step - loss: 0.4325 - accuracy: 0.9870 - val_loss: 0.5298 - val_accuracy: 0.9000 - lr: 1.2500e-05\n",
            "Epoch 22/25\n",
            "20/20 [==============================] - ETA: 0s - loss: 0.4268 - accuracy: 0.9805 \n",
            "Epoch 22: ReduceLROnPlateau reducing learning rate to 6.24999984211172e-06.\n",
            "20/20 [==============================] - 416s 21s/step - loss: 0.4268 - accuracy: 0.9805 - val_loss: 0.5514 - val_accuracy: 0.9000 - lr: 1.2500e-05\n",
            "Epoch 23/25\n",
            "20/20 [==============================] - 414s 21s/step - loss: 0.4407 - accuracy: 0.9740 - val_loss: 0.5140 - val_accuracy: 0.9250 - lr: 6.2500e-06\n",
            "Epoch 24/25\n",
            "20/20 [==============================] - 412s 21s/step - loss: 0.4134 - accuracy: 0.9935 - val_loss: 0.5357 - val_accuracy: 0.9000 - lr: 6.2500e-06\n",
            "Epoch 25/25\n",
            "20/20 [==============================] - ETA: 0s - loss: 0.4320 - accuracy: 0.9870 \n",
            "Epoch 25: ReduceLROnPlateau reducing learning rate to 3.12499992105586e-06.\n",
            "20/20 [==============================] - 414s 21s/step - loss: 0.4320 - accuracy: 0.9870 - val_loss: 0.5525 - val_accuracy: 0.9125 - lr: 6.2500e-06\n"
          ]
        },
        {
          "data": {
            "application/vnd.google.colaboratory.intrinsic+json": {
              "type": "string"
            },
            "text/plain": [
              "'03:00:27'"
            ]
          },
          "execution_count": 29,
          "metadata": {},
          "output_type": "execute_result"
        }
      ],
      "source": [
        "#MODEL COMPILATION WITH HYPER-PARAMETERS, LOSS FUNCTIONS AND TRAINING!\n",
        "import time\n",
        "\n",
        "batch_size = 16\n",
        "\n",
        "epochs = 25\n",
        "\n",
        "start_time = time.time()\n",
        "\n",
        "optimizer = Adam(learning_rate=0.0001)\n",
        "\n",
        "TDCNN.compile(\n",
        "    optimizer=optimizer, \n",
        "    loss='categorical_crossentropy', \n",
        "    metrics=['accuracy']\n",
        ") \n",
        "\n",
        "reduce_lr = ReduceLROnPlateau(\n",
        "    monitor='val_accuracy', \n",
        "    factor=0.5, \n",
        "    patience=2,                          \n",
        "    verbose=1, \n",
        "    mode='max', \n",
        "    min_lr=0.000001\n",
        ")\n",
        "\n",
        "callbacks = [reduce_lr]\n",
        "\n",
        "history = TDCNN.fit(\n",
        "    training_set,\n",
        "    epochs=epochs, \n",
        "    steps_per_epoch=nb_train_samples // batch_size,\n",
        "    validation_data=val_set,\n",
        "    callbacks=callbacks, \n",
        "    validation_steps=nb_validation_samples // batch_size, \n",
        "    verbose=1\n",
        ")\n",
        "\n",
        "elapsed_time = time.time() - start_time\n",
        "time.strftime(\"%H:%M:%S\", time.gmtime(elapsed_time))\n",
        "\n",
        "\n",
        "\n"
      ]
    },
    {
      "cell_type": "markdown",
      "metadata": {},
      "source": [
        "# Report"
      ]
    },
    {
      "cell_type": "code",
      "execution_count": 32,
      "metadata": {
        "colab": {
          "base_uri": "https://localhost:8080/",
          "height": 268
        },
        "id": "PKfvnwGSuD1q",
        "outputId": "7e46546d-4854-4e69-ac97-cad4f3cc3f8b"
      },
      "outputs": [
        {
          "data": {
            "image/png": "[encoded data removed]",
            "text/plain": [
              "<Figure size 432x288 with 1 Axes>"
            ]
          },
          "metadata": {
            "needs_background": "light"
          },
          "output_type": "display_data"
        }
      ],
      "source": [
        "# loss\n",
        "plt.plot(history.history['loss'], label='train loss')\n",
        "plt.plot(history.history['val_loss'], label='val loss')\n",
        "plt.legend()\n",
        "\n",
        "plt.savefig('vgg-loss-rps-1.png')\n",
        "plt.show()"
      ]
    },
    {
      "cell_type": "code",
      "execution_count": 33,
      "metadata": {
        "colab": {
          "base_uri": "https://localhost:8080/",
          "height": 265
        },
        "id": "RjWuEBF_2lkb",
        "outputId": "10680638-b7e3-4ed7-9231-b6d18f98177d"
      },
      "outputs": [
        {
          "data": {
            "image/png": "[encoded data removed]",
            "text/plain": [
              "<Figure size 432x288 with 1 Axes>"
            ]
          },
          "metadata": {
            "needs_background": "light"
          },
          "output_type": "display_data"
        }
      ],
      "source": [
        "# accuracies\n",
        "plt.plot(history.history['accuracy'], label='train acc')\n",
        "plt.plot(history.history['val_accuracy'], label='val acc')\n",
        "plt.legend()\n",
        "\n",
        "plt.savefig('vgg-acc-rps-1.png')\n",
        "plt.show()"
      ]
    },
    {
      "cell_type": "code",
      "execution_count": 9,
      "metadata": {
        "colab": {
          "base_uri": "https://localhost:8080/",
          "height": 566
        },
        "id": "ZeCEVigN3ZAQ",
        "outputId": "a59a0c21-bdd7-40ee-a029-ee7bb86e8bf5"
      },
      "outputs": [
        {
          "name": "stdout",
          "output_type": "stream",
          "text": [
            "4/4 [==============================] - 51s 7s/step - loss: 0.4347 - accuracy: 0.9800\n",
            "              precision    recall  f1-score   support\n",
            "\n",
            "           0       0.90      1.00      0.95         9\n",
            "           1       1.00      1.00      1.00         8\n",
            "           2       1.00      0.92      0.96        13\n",
            "           3       1.00      1.00      1.00        10\n",
            "           4       1.00      1.00      1.00        10\n",
            "\n",
            "    accuracy                           0.98        50\n",
            "   macro avg       0.98      0.98      0.98        50\n",
            "weighted avg       0.98      0.98      0.98        50\n",
            "\n"
          ]
        },
        {
          "data": {
            "image/png": "[encoded data removed]",
            "text/plain": [
              "<Figure size 1000x800 with 2 Axes>"
            ]
          },
          "metadata": {
            "needs_background": "light"
          },
          "output_type": "display_data"
        }
      ],
      "source": [
        "TDCNN.evaluate(test_set,batch_size=32)\n",
        "y_pred=TDCNN.predict(test_set)\n",
        "y_pred=np.argmax(y_pred,axis=1)\n",
        "accuracy_score(y_pred,test_set.classes)\n",
        "print(classification_report(y_pred,test_set.classes))\n",
        "\n",
        "import seaborn as sns\n",
        "\n",
        "# confusion_matrix\n",
        "index = labels\n",
        "columns = labels  \n",
        "cm = confusion_matrix(y_pred, test_set.classes)\n",
        "cm_df = pd.DataFrame(cm,columns,index)                      \n",
        "fig = plt.figure(figsize=(10,8),dpi=100)  \n",
        "fig = sns.heatmap(cm_df,cmap='Blues',annot=True, fmt=\"d\",linewidths=1, square=True)\n"
      ]
    },
    {
      "cell_type": "code",
      "execution_count": 10,
      "metadata": {},
      "outputs": [],
      "source": [
        "image_format = 'svg' # e.g .png, .svg, etc.\n",
        "image_name = 'TDCNN'+'.svg'\n",
        "\n",
        "figure = fig.get_figure()  \n",
        "figure.savefig(image_name, format=image_format, dpi=1200)"
      ]
    },
    {
      "cell_type": "markdown",
      "metadata": {},
      "source": [
        "# Export the model"
      ]
    },
    {
      "cell_type": "code",
      "execution_count": 31,
      "metadata": {
        "id": "Ry04Kp450vSY"
      },
      "outputs": [],
      "source": [
        "file_model = \"weights/TDCNN_1.h5\"\n",
        "tf.keras.models.save_model(TDCNN,file_model)"
      ]
    }
  ],
  "metadata": {
    "colab": {
      "collapsed_sections": [],
      "name": "beans.ipynb",
      "provenance": []
    },
    "kernelspec": {
      "display_name": "Python 3.10.2 64-bit",
      "language": "python",
      "name": "python3"
    },
    "language_info": {
      "codemirror_mode": {
        "name": "ipython",
        "version": 3
      },
      "file_extension": ".py",
      "mimetype": "text/x-python",
      "name": "python",
      "nbconvert_exporter": "python",
      "pygments_lexer": "ipython3",
      "version": "3.10.2"
    },
    "vscode": {
      "interpreter": {
        "hash": "f86d353589da63107fa41935c647b090130dd82e36124730776efe65677d465c"
      }
    }
  },
  "nbformat": 4,
  "nbformat_minor": 0
}
